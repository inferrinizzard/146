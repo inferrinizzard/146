{
 "nbformat": 4,
 "nbformat_minor": 2,
 "metadata": {
  "language_info": {
   "name": "python",
   "codemirror_mode": {
    "name": "ipython",
    "version": 3
   },
   "version": "3.7.6-final"
  },
  "orig_nbformat": 2,
  "file_extension": ".py",
  "mimetype": "text/x-python",
  "name": "python",
  "npconvert_exporter": "python",
  "pygments_lexer": "ipython3",
  "version": 3,
  "kernelspec": {
   "name": "python37664bit00f6e62ef6c2468a9300be7d0e53937d",
   "display_name": "Python 3.7.6 64-bit"
  }
 },
 "cells": [
  {
   "cell_type": "code",
   "execution_count": 1,
   "metadata": {},
   "outputs": [],
   "source": [
    "recipes = {}\n",
    "\n",
    "class Recipe():\n",
    "    def __init__(self, raw_recipe, complexity=0):\n",
    "        self.name = list(raw_recipe.keys())[0]\n",
    "        val = list(raw_recipe.values())[0]\n",
    "        self.produces = val[\"Produces\"]\n",
    "        self.time = val[\"Time\"]\n",
    "        self.requires = val.get(\"Requires\")\n",
    "        self.consumes = val.get(\"Consumes\")\n",
    "        self.complexity = complexity\n",
    "        self.raw = raw_recipe\n",
    "        self.raw_cost = sum(self.consumes.values()) if self.consumes else 0\n",
    "        self.cost = self.raw_cost + 10*len(self.requires) if self.requires else 0\n",
    "\n",
    "    def __repr__(self):\n",
    "        return \"<\" + self.name + \"> Makes \" + str(self.produces) + \" in \"  + str(self.time) + \" time; \" + (\"Needs: \" + str(self.consumes) + \"; \" if self.consumes else \"\") + (\"Tools: \" + \", \".join(self.requires.keys()) + \" \" if self.requires else \"\") + \"Raw Cost: \" + str(self.raw_cost) + \" Cost: \" + str(self.cost) + \" Complexity: \" + str(self.complexity)"
   ]
  },
  {
   "cell_type": "code",
   "execution_count": 3,
   "metadata": {},
   "outputs": [
    {
     "name": "stdout",
     "output_type": "stream",
     "text": "{'craft wooden_pickaxe at bench': {'Produces': {'wooden_pickaxe': 1}, 'Requires': {'bench': True}, 'Consumes': {'plank': 3, 'stick': 2}, 'Time': 1}, 'craft stone_pickaxe at bench': {'Produces': {'stone_pickaxe': 1}, 'Requires': {'bench': True}, 'Consumes': {'cobble': 3, 'stick': 2}, 'Time': 1}, 'wooden_pickaxe for coal': {'Produces': {'coal': 1}, 'Requires': {'wooden_pickaxe': True}, 'Time': 4}, 'iron_pickaxe for ore': {'Produces': {'ore': 1}, 'Requires': {'iron_pickaxe': True}, 'Time': 2}, 'wooden_axe for wood': {'Produces': {'wood': 1}, 'Requires': {'wooden_axe': True}, 'Time': 2}, 'craft plank': {'Produces': {'plank': 4}, 'Consumes': {'wood': 1}, 'Time': 1}, 'craft stick': {'Produces': {'stick': 4}, 'Consumes': {'plank': 2}, 'Time': 1}, 'craft rail at bench': {'Produces': {'rail': 16}, 'Requires': {'bench': True}, 'Consumes': {'ingot': 6, 'stick': 1}, 'Time': 1}, 'craft cart at bench': {'Produces': {'cart': 1}, 'Requires': {'bench': True}, 'Consumes': {'ingot': 5}, 'Time': 1}, 'iron_pickaxe for cobble': {'Produces': {'cobble': 1}, 'Requires': {'iron_pickaxe': True}, 'Time': 1}, 'stone_axe for wood': {'Produces': {'wood': 1}, 'Requires': {'stone_axe': True}, 'Time': 1}, 'craft iron_pickaxe at bench': {'Produces': {'iron_pickaxe': 1}, 'Requires': {'bench': True}, 'Consumes': {'ingot': 3, 'stick': 2}, 'Time': 1}, 'craft furnace at bench': {'Produces': {'furnace': 1}, 'Requires': {'bench': True}, 'Consumes': {'cobble': 8}, 'Time': 1}, 'punch for wood': {'Produces': {'wood': 1}, 'Time': 4}, 'stone_pickaxe for ore': {'Produces': {'ore': 1}, 'Requires': {'stone_pickaxe': True}, 'Time': 4}, 'craft iron_axe at bench': {'Produces': {'iron_axe': 1}, 'Requires': {'bench': True}, 'Consumes': {'ingot': 3, 'stick': 2}, 'Time': 1}, 'stone_pickaxe for coal': {'Produces': {'coal': 1}, 'Requires': {'stone_pickaxe': True}, 'Time': 2}, 'craft wooden_axe at bench': {'Produces': {'wooden_axe': 1}, 'Requires': {'bench': True}, 'Consumes': {'plank': 3, 'stick': 2}, 'Time': 1}, 'stone_pickaxe for cobble': {'Produces': {'cobble': 1}, 'Requires': {'stone_pickaxe': True}, 'Time': 2}, 'wooden_pickaxe for cobble': {'Produces': {'cobble': 1}, 'Requires': {'wooden_pickaxe': True}, 'Time': 4}, 'iron_pickaxe for coal': {'Produces': {'coal': 1}, 'Requires': {'iron_pickaxe': True}, 'Time': 1}, 'craft bench': {'Produces': {'bench': 1}, 'Consumes': {'plank': 4}, 'Time': 1}, 'craft stone_axe at bench': {'Produces': {'stone_axe': 1}, 'Requires': {'bench': True}, 'Consumes': {'cobble': 3, 'stick': 2}, 'Time': 1}, 'smelt ore in furnace': {'Produces': {'ingot': 1}, 'Requires': {'furnace': True}, 'Consumes': {'coal': 1, 'ore': 1}, 'Time': 5}, 'iron_axe for wood': {'Produces': {'wood': 1}, 'Requires': {'iron_axe': True}, 'Time': 1}}\n"
    }
   ],
   "source": [
    "from json import load\n",
    "with open('crafting.json') as f:\n",
    "        Crafting = load(f)\n",
    "\n",
    "def at(dict, index):\n",
    "    def get_key(dictionary, n=0):\n",
    "        if n < 0:\n",
    "            n += len(dictionary)\n",
    "        for i, key in enumerate(dictionary.keys()):\n",
    "            if i == n:\n",
    "                return key\n",
    "        raise IndexError\n",
    "    return (lambda key: {key:dict[key]})(get_key(dict,index))\n",
    "\n",
    "r = Crafting[\"Recipes\"]\n",
    "punch = {\"punch for wood\":r[\"punch for wood\"]}\n",
    "print(r)"
   ]
  },
  {
   "cell_type": "code",
   "execution_count": 2,
   "metadata": {},
   "outputs": [],
   "source": [
    "def get_children(item): # stuff that needs this as a requirement\n",
    "    return [{i[0]:i[1]} for i in filter(lambda r: (r[1].get(\"Requires\") and item in list(r[1].get(\"Requires\").keys())) or (r[1].get(\"Consumes\") and item in list(r[1].get(\"Consumes\").keys())), r.items())]"
   ]
  },
  {
   "cell_type": "code",
   "execution_count": 29,
   "metadata": {},
   "outputs": [
    {
     "name": "stdout",
     "output_type": "stream",
     "text": "25\n"
    }
   ],
   "source": [
    "R = []\n",
    "\n",
    "def get_key(d):  # returns key bc python dumb_\n",
    "    return list(d.keys())[0]\n",
    "\n",
    "def get_val(d):  # returns val bc python dumb_\n",
    "    return list(d.values())[0]\n",
    "\n",
    "def add_recipes(item, layer=0): # recursively adds all recipes, needs R and r declared outside (R:final list, r:beginning list)\n",
    "    # print(item, layer)\n",
    "    if(layer>10):\n",
    "        return\n",
    "    makes_item = [{i[0]:i[1]} for i in filter(lambda x: item in list(x[1][\"Produces\"].keys()), r.items())] # find recipes that make •item\n",
    "\n",
    "    for i in [*makes_item, *get_children(item)]: # for all recipes related to •item\n",
    "        name = get_key(i)\n",
    "        # print(\"Name: \" + name)\n",
    "        requirements = (lambda req, con: [*(list(req.keys()) if req else []), *(list(con.keys()) if con else [])])(get_val(i).get(\"Requires\"), get_val(i).get(\"Consumes\")) # any item that current •item needs as prereq\n",
    "        # print(requirements)\n",
    "\n",
    "        recipe_items = [r for l in [list(recipe.produces.keys()) for recipe in R] for r in l]\n",
    "\n",
    "        if(not any(recipe.name == name for recipe in R) and all(req in recipe_items for req in requirements)): # check if not dupe and every prereq is satisfied\n",
    "            # print(\"Added: \" + name)\n",
    "            R.append(Recipe({name:dict(**list(i.values())[0], **{\"Complexity\":layer})}, layer)) # make new Recipe if new\n",
    "        if(i not in makes_item): # recurse children\n",
    "            add_recipes(get_key(get_val(i)[\"Produces\"]), layer+1)\n",
    "\n",
    "add_recipes(\"wood\")\n",
    "\n",
    "print(len(R))"
   ]
  }
 ]
}